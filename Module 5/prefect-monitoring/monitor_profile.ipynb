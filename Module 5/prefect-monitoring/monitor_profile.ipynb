{
 "cells": [
  {
   "cell_type": "code",
   "execution_count": 1,
   "metadata": {},
   "outputs": [],
   "source": [
    "from pymongo import MongoClient\n",
    "import pprint"
   ]
  },
  {
   "cell_type": "code",
   "execution_count": 2,
   "metadata": {},
   "outputs": [],
   "source": [
    "MONGO_CLIENT_ADDRESS = \"mongodb://localhost:27017/\"\n",
    "MONGO_DATABASE = \"prediction_service\"\n",
    "REPORT_COLLECTION = \"report\""
   ]
  },
  {
   "cell_type": "code",
   "execution_count": 19,
   "metadata": {},
   "outputs": [],
   "source": [
    "client = MongoClient(MONGO_CLIENT_ADDRESS)\n",
    "data = client.get_database(MONGO_DATABASE).get_collection(REPORT_COLLECTION)"
   ]
  },
  {
   "cell_type": "code",
   "execution_count": 23,
   "metadata": {},
   "outputs": [
    {
     "data": {
      "text/plain": [
       "Collection(Database(MongoClient(host=['localhost:27017'], document_class=dict, tz_aware=False, connect=True), 'prediction_service'), 'report')"
      ]
     },
     "execution_count": 23,
     "metadata": {},
     "output_type": "execute_result"
    }
   ],
   "source": [
    "data"
   ]
  },
  {
   "cell_type": "code",
   "execution_count": 20,
   "metadata": {},
   "outputs": [
    {
     "name": "stdout",
     "output_type": "stream",
     "text": [
      "Collection(Database(MongoClient(host=['localhost:27017'], document_class=dict, tz_aware=False, connect=True), 'prediction_service'), 'report.0.data_drift.data.metrics')\n"
     ]
    }
   ],
   "source": [
    "pprint.pprint(data[0]['data_drift']['data']['metrics'])"
   ]
  },
  {
   "cell_type": "code",
   "execution_count": 27,
   "metadata": {},
   "outputs": [
    {
     "name": "stdout",
     "output_type": "stream",
     "text": [
      "Collection(Database(MongoClient(host=['localhost:27017'], document_class=dict, tz_aware=False, connect=True), 'prediction_service'), 'report.0.regression_performance.data.metrics')\n"
     ]
    }
   ],
   "source": [
    "pprint.pprint(data[0]['regression_performance']['data']['metrics'])"
   ]
  }
 ],
 "metadata": {
  "kernelspec": {
   "display_name": "Python 3.9.12 ('05_homework-IFkcJeXi')",
   "language": "python",
   "name": "python3"
  },
  "language_info": {
   "codemirror_mode": {
    "name": "ipython",
    "version": 3
   },
   "file_extension": ".py",
   "mimetype": "text/x-python",
   "name": "python",
   "nbconvert_exporter": "python",
   "pygments_lexer": "ipython3",
   "version": "3.9.12"
  },
  "vscode": {
   "interpreter": {
    "hash": "011b180934ef547b4719f8f8a377b1302bddd8e55dc6d820ac5787716e885ecd"
   }
  }
 },
 "nbformat": 4,
 "nbformat_minor": 2
}
